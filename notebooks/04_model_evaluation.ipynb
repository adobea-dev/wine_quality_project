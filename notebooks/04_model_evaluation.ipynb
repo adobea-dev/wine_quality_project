{
 "cells": [
  {
   "cell_type": "code",
   "execution_count": 5,
   "id": "0d9f3c35-8500-48ca-92d8-081159f2ea73",
   "metadata": {},
   "outputs": [],
   "source": [
    "import joblib\n",
    "from sklearn.metrics import classification_report, accuracy_score, f1_score, ConfusionMatrixDisplay "
   ]
  },
  {
   "cell_type": "code",
   "execution_count": 6,
   "id": "04d603da-89ab-488c-947d-c584d3041cb5",
   "metadata": {},
   "outputs": [],
   "source": [
    "# Load all models\n",
    "models = {\n",
    "    \"Random Forest\": joblib.load(\"../models/Random_Forest.joblib\"),\n",
    "    \"Logistic Regression\": joblib.load(\"../models/Logistic_Regression.joblib\"),\n",
    "    \"Gradient Boosting\": joblib.load(\"../models/Gradient_Boosting.joblib\"),\n",
    "    \"SVC\": joblib.load(\"../models/SVC.joblib\"),\n",
    "    \"KNN\": joblib.load(\"../models/KNN.joblib\"),\n",
    "    \"Ridge Classifier\": joblib.load(\"../models/Ridge_Classifier.joblib\")\n",
    "}"
   ]
  },
  {
   "cell_type": "code",
   "execution_count": 7,
   "id": "bf8a77c4-b0ef-42cb-9d6b-7b09b6121555",
   "metadata": {},
   "outputs": [
    {
     "name": "stdout",
     "output_type": "stream",
     "text": [
      "\n",
      "===== Random Forest =====\n"
     ]
    },
    {
     "ename": "NameError",
     "evalue": "name 'X_test_mi' is not defined",
     "output_type": "error",
     "traceback": [
      "\u001b[31m-----------------------------------------------------------\u001b[39m",
      "\u001b[31mNameError\u001b[39m                 Traceback (most recent call last)",
      "\u001b[36mCell\u001b[39m\u001b[36m \u001b[39m\u001b[32mIn[7]\u001b[39m\u001b[32m, line 4\u001b[39m\n\u001b[32m      2\u001b[39m \u001b[38;5;28;01mfor\u001b[39;00m name, model \u001b[38;5;129;01min\u001b[39;00m models.items():\n\u001b[32m      3\u001b[39m     \u001b[38;5;28mprint\u001b[39m(\u001b[33mf\u001b[39m\u001b[33m\"\u001b[39m\u001b[38;5;130;01m\\n\u001b[39;00m\u001b[33m===== \u001b[39m\u001b[38;5;132;01m{\u001b[39;00mname\u001b[38;5;132;01m}\u001b[39;00m\u001b[33m =====\u001b[39m\u001b[33m\"\u001b[39m)\n\u001b[32m----> \u001b[39m\u001b[32m4\u001b[39m     y_pred = model.predict(\u001b[43mX_test_mi\u001b[49m ) \n\u001b[32m      5\u001b[39m     \u001b[38;5;28mprint\u001b[39m(\u001b[33m\"\u001b[39m\u001b[33mAccuracy:\u001b[39m\u001b[33m\"\u001b[39m, accuracy_score(y_test, y_pred))\n\u001b[32m      6\u001b[39m     \u001b[38;5;28mprint\u001b[39m(\u001b[33m\"\u001b[39m\u001b[33mClassification Report:\u001b[39m\u001b[33m\"\u001b[39m)\n",
      "\u001b[31mNameError\u001b[39m: name 'X_test_mi' is not defined"
     ]
    }
   ],
   "source": [
    "#accuracy with Mutual information selectors\n",
    "for name, model in models.items():\n",
    "    print(f\"\\n===== {name} =====\")\n",
    "    y_pred = model.predict(X_test_mi ) \n",
    "    print(\"Accuracy:\", accuracy_score(y_test, y_pred))\n",
    "    print(\"Classification Report:\")\n",
    "    print(classification_report(y_test, y_pred))\n",
    "    print(\"Confusion Matrix:\")\n",
    "    print(confusion_matrix(y_test, y_pred))"
   ]
  },
  {
   "cell_type": "code",
   "execution_count": null,
   "id": "ce763412-47a7-47c8-b39a-bfe9639665be",
   "metadata": {},
   "outputs": [],
   "source": [
    "y_pred = rf_model.predict(X_test_proc)\n",
    "print(\"Accuracy:\", accuracy_score(y_test, y_pred))\n",
    "print(\"Macro F1:\", f1_score(y_test, y_pred, average='macro'))\n",
    "print(\"Weighted F1:\", f1_score(y_test, y_pred, average='weighted'))\n",
    "print(classification_report(y_test, y_pred))"
   ]
  },
  {
   "cell_type": "code",
   "execution_count": null,
   "id": "daabcdd5-708d-47da-82f4-4d3f2fac029a",
   "metadata": {},
   "outputs": [],
   "source": [
    "#Visulaize Performance\n",
    "ConfusionMatrixDisplay.from_estimator(rf_model, X_test_proc, y_test)"
   ]
  },
  {
   "cell_type": "code",
   "execution_count": null,
   "id": "4ec9cedc-9bb6-45a3-b6c7-60114b7e38c6",
   "metadata": {},
   "outputs": [],
   "source": [
    "y_test_bin = label_binarize(y_test, classes=[3,4,5,6,7,8])"
   ]
  }
 ],
 "metadata": {
  "kernelspec": {
   "display_name": "Python 3 (ipykernel)",
   "language": "python",
   "name": "python3"
  },
  "language_info": {
   "codemirror_mode": {
    "name": "ipython",
    "version": 3
   },
   "file_extension": ".py",
   "mimetype": "text/x-python",
   "name": "python",
   "nbconvert_exporter": "python",
   "pygments_lexer": "ipython3",
   "version": "3.12.5"
  }
 },
 "nbformat": 4,
 "nbformat_minor": 5
}
